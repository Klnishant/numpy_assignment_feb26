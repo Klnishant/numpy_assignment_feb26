{
 "cells": [
  {
   "cell_type": "code",
   "execution_count": 5,
   "id": "78ea860b-7b73-4c51-ad6e-f65eff663ef9",
   "metadata": {},
   "outputs": [],
   "source": [
    "import numpy as np\n",
    "num_list = [ [ 1 , 2 , 3 ] , [ 4 , 5 , 6 ] ]\n",
    "num_array = np.array(object = num_list)"
   ]
  },
  {
   "cell_type": "markdown",
   "id": "7f546342-9833-4946-b24e-35ffba318f1b",
   "metadata": {},
   "source": [
    "find shape"
   ]
  },
  {
   "cell_type": "code",
   "execution_count": 6,
   "id": "cde49662-791d-47ae-b19c-e4dbe391478d",
   "metadata": {},
   "outputs": [
    {
     "data": {
      "text/plain": [
       "(2, 3)"
      ]
     },
     "execution_count": 6,
     "metadata": {},
     "output_type": "execute_result"
    }
   ],
   "source": [
    "np.shape(num_array)"
   ]
  },
  {
   "cell_type": "markdown",
   "id": "9f5c004a-bbf2-4390-bcef-0e1e3b581717",
   "metadata": {},
   "source": [
    "find size"
   ]
  },
  {
   "cell_type": "code",
   "execution_count": 7,
   "id": "1259128d-141f-4b3c-883b-ea8b5a86b828",
   "metadata": {},
   "outputs": [
    {
     "data": {
      "text/plain": [
       "6"
      ]
     },
     "execution_count": 7,
     "metadata": {},
     "output_type": "execute_result"
    }
   ],
   "source": [
    "np.size(num_array)"
   ]
  }
 ],
 "metadata": {
  "kernelspec": {
   "display_name": "Python 3 (ipykernel)",
   "language": "python",
   "name": "python3"
  },
  "language_info": {
   "codemirror_mode": {
    "name": "ipython",
    "version": 3
   },
   "file_extension": ".py",
   "mimetype": "text/x-python",
   "name": "python",
   "nbconvert_exporter": "python",
   "pygments_lexer": "ipython3",
   "version": "3.10.8"
  }
 },
 "nbformat": 4,
 "nbformat_minor": 5
}
