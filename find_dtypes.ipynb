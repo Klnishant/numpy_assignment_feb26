{
 "cells": [
  {
   "cell_type": "code",
   "execution_count": 4,
   "id": "8dd36985-7b16-4923-9a8e-27483125db4e",
   "metadata": {},
   "outputs": [
    {
     "name": "stdout",
     "output_type": "stream",
     "text": [
      "Type of each element of variable list_\n",
      "<class 'str'>\n",
      "<class 'str'>\n",
      "<class 'str'>\n",
      "<class 'str'>\n",
      "<class 'str'>\n",
      "Types of each element of variable array_list\n",
      "<class 'numpy.int64'>\n",
      "<class 'numpy.int64'>\n",
      "<class 'numpy.int64'>\n",
      "<class 'numpy.int64'>\n",
      "<class 'numpy.int64'>\n"
     ]
    }
   ],
   "source": [
    "import numpy as np\n",
    "list_ = [ '1' , '2' , '3' , '4' , '5' ]\n",
    "array_list = np.array(object = list_ , dtype=int)\n",
    "print(\"Type of each element of variable list_\")\n",
    "for i in list_ :\n",
    "    print(type(i))\n",
    "print(\"Types of each element of variable array_list\")\n",
    "for j in array_list :\n",
    "    print(type(j))"
   ]
  },
  {
   "cell_type": "code",
   "execution_count": null,
   "id": "93747105-646d-4722-80ce-2c0fe181d7d8",
   "metadata": {},
   "outputs": [],
   "source": []
  }
 ],
 "metadata": {
  "kernelspec": {
   "display_name": "Python 3 (ipykernel)",
   "language": "python",
   "name": "python3"
  },
  "language_info": {
   "codemirror_mode": {
    "name": "ipython",
    "version": 3
   },
   "file_extension": ".py",
   "mimetype": "text/x-python",
   "name": "python",
   "nbconvert_exporter": "python",
   "pygments_lexer": "ipython3",
   "version": "3.10.8"
  }
 },
 "nbformat": 4,
 "nbformat_minor": 5
}
